{
 "metadata": {
  "language_info": {
   "codemirror_mode": {
    "name": "ipython",
    "version": 3
   },
   "file_extension": ".py",
   "mimetype": "text/x-python",
   "name": "python",
   "nbconvert_exporter": "python",
   "pygments_lexer": "ipython3",
   "version": "3.8.6-final"
  },
  "orig_nbformat": 2,
  "kernelspec": {
   "name": "python3",
   "display_name": "Python 3.8.6 64-bit",
   "metadata": {
    "interpreter": {
     "hash": "f505e22ddd32c8d602aea0f1feb8605cd1499c125a49d3f5e8b385a9479bec0a"
    }
   }
  }
 },
 "nbformat": 4,
 "nbformat_minor": 2,
 "cells": [
  {
   "source": [
    "# Question 5: Gray Code"
   ],
   "cell_type": "markdown",
   "metadata": {}
  },
  {
   "source": [
    "Refer the link for more about gray code: https://www.tutorialspoint.com/what-is-gray-code"
   ],
   "cell_type": "markdown",
   "metadata": {}
  },
  {
   "source": [
    "#### Solution using the algorithm in the link above"
   ],
   "cell_type": "markdown",
   "metadata": {}
  },
  {
   "cell_type": "code",
   "execution_count": 1,
   "metadata": {},
   "outputs": [],
   "source": [
    "def gray_using_recursion(length:int)->list:\n",
    "    mylist = [0,1]\n",
    "    if (length == 1):\n",
    "        return (mylist)\n",
    "    else:\n",
    "        arr=gray_using_recursion(length-1)\n",
    "        rev=[]\n",
    "        for x in arr:\n",
    "            rev.append(x)\n",
    "        rev.reverse()\n",
    "\n",
    "        i = len(arr)\n",
    "        for j in range(i):\n",
    "            arr[j] = \"0\" + str(arr[j])\n",
    "            int(arr[j])\n",
    "        for j in range(i):\n",
    "            rev[j] = \"1\" + str(rev[j])\n",
    "            int(rev[j])\n",
    "        arr.extend(rev)\n",
    "        #print(arr)\n",
    "        return (arr)\n"
   ]
  },
  {
   "cell_type": "code",
   "execution_count": 2,
   "metadata": {},
   "outputs": [
    {
     "output_type": "stream",
     "name": "stdout",
     "text": [
      "['000000', '000001', '000011', '000010', '000110', '000111', '000101', '000100', '001100', '001101', '001111', '001110', '001010', '001011', '001001', '001000', '011000', '011001', '011011', '011010', '011110', '011111', '011101', '011100', '010100', '010101', '010111', '010110', '010010', '010011', '010001', '010000', '110000', '110001', '110011', '110010', '110110', '110111', '110101', '110100', '111100', '111101', '111111', '111110', '111010', '111011', '111001', '111000', '101000', '101001', '101011', '101010', '101110', '101111', '101101', '101100', '100100', '100101', '100111', '100110', '100010', '100011', '100001', '100000']\n"
     ]
    }
   ],
   "source": [
    "length = int(input(\"Enter length\"))\n",
    "a = gray_using_recursion(length)\n",
    "print(a)"
   ]
  },
  {
   "source": [
    "#### My Original Submission"
   ],
   "cell_type": "markdown",
   "metadata": {}
  },
  {
   "cell_type": "code",
   "execution_count": 5,
   "metadata": {},
   "outputs": [],
   "source": [
    "def dec_to_binary(number:int):\n",
    "    \"\"\"Function to convert Decimal to Binary\"\"\"\n",
    "    list1 = []\n",
    "    while(number>0):\n",
    "        if number % 2 == 0:\n",
    "            list1.append(0)\n",
    "            number = number/2\n",
    "        elif number % 2 == 1:\n",
    "            list1.append(1)\n",
    "            number = number//2\n",
    "    list1.reverse()\n",
    "    return (list1)   "
   ]
  },
  {
   "cell_type": "code",
   "execution_count": 6,
   "metadata": {},
   "outputs": [],
   "source": [
    "def binary_to_gray(list2:list)->list:\n",
    "    \"\"\"Function to convert Binary to Binary\"\"\"\n",
    "    t=1\n",
    "    gray_list = []\n",
    "    gray_list.append(list2[0])\n",
    "    length1 = len(list2)\n",
    "    for x in range (0,(length1-1)):\n",
    "        gray_list.append((list2[x] ^ list2[x+1])) \n",
    "    return (gray_list)\n"
   ]
  },
  {
   "cell_type": "code",
   "execution_count": 7,
   "metadata": {},
   "outputs": [],
   "source": [
    "def conversion(number,length1):\n",
    "    \"\"\"Function for final Conversion\"\"\"\n",
    "    blist= []\n",
    "    glist = []\n",
    "    glist = (binary_to_gray(dec_to_binary(number)))\n",
    "    cardinal = len(glist)\n",
    "    while (len(glist) < length1):\n",
    "        glist.insert(0,0)\n",
    "    if len(glist) == length1:\n",
    "        print(*glist, sep='')\n",
    "        return (glist)\n",
    "    else:\n",
    "        # Here I have returned any random value so that I can break the loop.\n",
    "        return -8\n",
    "    \n"
   ]
  },
  {
   "source": [
    "### Printing Gray Code"
   ],
   "cell_type": "markdown",
   "metadata": {}
  },
  {
   "cell_type": "code",
   "execution_count": 8,
   "metadata": {},
   "outputs": [
    {
     "output_type": "stream",
     "name": "stdout",
     "text": [
      "000001\n000011\n000010\n000110\n000111\n000101\n000100\n001100\n001101\n001111\n001110\n001010\n001011\n001001\n001000\n011000\n011001\n011011\n011010\n011110\n011111\n011101\n011100\n010100\n010101\n010111\n010110\n010010\n010011\n010001\n010000\n110000\n110001\n110011\n110010\n110110\n110111\n110101\n110100\n111100\n111101\n111111\n111110\n111010\n111011\n111001\n111000\n101000\n101001\n101011\n101010\n101110\n101111\n101101\n101100\n100100\n100101\n100111\n100110\n100010\n100011\n100001\n100000\n"
     ]
    }
   ],
   "source": [
    "from __future__ import print_function\n",
    "length = int(input(\"Enter length\"))\n",
    "a = []\n",
    "t = 0\n",
    "i = 1\n",
    "while i>0:\n",
    "    a.append(conversion(i,length))\n",
    "    if a[t] == -8 :\n",
    "        i = -8\n",
    "    t = t + 1\n",
    "    i = i + 1\n",
    "\n",
    "    \n",
    "\n",
    "    "
   ]
  },
  {
   "cell_type": "code",
   "execution_count": null,
   "metadata": {},
   "outputs": [],
   "source": []
  }
 ]
}
