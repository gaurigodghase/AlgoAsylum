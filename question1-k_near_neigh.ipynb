{
 "metadata": {
  "language_info": {
   "codemirror_mode": {
    "name": "ipython",
    "version": 3
   },
   "file_extension": ".py",
   "mimetype": "text/x-python",
   "name": "python",
   "nbconvert_exporter": "python",
   "pygments_lexer": "ipython3",
   "version": "3.8.6-final"
  },
  "orig_nbformat": 2,
  "kernelspec": {
   "name": "python3",
   "display_name": "Python 3.8.6 64-bit",
   "metadata": {
    "interpreter": {
     "hash": "f505e22ddd32c8d602aea0f1feb8605cd1499c125a49d3f5e8b385a9479bec0a"
    }
   }
  }
 },
 "nbformat": 4,
 "nbformat_minor": 2,
 "cells": [
  {
   "source": [
    "# Implementing Nearest Neighbour Algorithm on MNIST dataset"
   ],
   "cell_type": "markdown",
   "metadata": {}
  },
  {
   "cell_type": "code",
   "execution_count": null,
   "metadata": {},
   "outputs": [],
   "source": [
    "#standard Imports\n",
    "from keras.datasets import mnist\n",
    "from matplotlib import pyplot\n",
    "import numpy as np "
   ]
  },
  {
   "source": [
    "### The datset is present in keras.imports and isalready split into training and test data"
   ],
   "cell_type": "markdown",
   "metadata": {}
  },
  {
   "cell_type": "code",
   "execution_count": null,
   "metadata": {},
   "outputs": [],
   "source": [
    "(trainX, trainy), (testX, testy) = mnist.load_data()"
   ]
  },
  {
   "cell_type": "code",
   "execution_count": null,
   "metadata": {},
   "outputs": [],
   "source": [
    "trainy[0]"
   ]
  },
  {
   "source": [
    "### I had split the dataset into a smaller section to train quicker"
   ],
   "cell_type": "markdown",
   "metadata": {}
  },
  {
   "cell_type": "code",
   "execution_count": null,
   "metadata": {},
   "outputs": [],
   "source": [
    "strainX = trainX[:5000]\n",
    "strainX[0]\n"
   ]
  },
  {
   "cell_type": "code",
   "execution_count": null,
   "metadata": {},
   "outputs": [],
   "source": [
    "strainy = trainy[:5000]\n",
    "strainy[0]"
   ]
  },
  {
   "cell_type": "code",
   "execution_count": null,
   "metadata": {},
   "outputs": [],
   "source": [
    "print('Train: X=%s, y=%s' % (trainX.shape, trainy.shape))\n",
    "print('Test: X=%s, y=%s' % (testX.shape, testy.shape))"
   ]
  },
  {
   "source": [
    "### Plotiing first 9 images to help visualize the data."
   ],
   "cell_type": "markdown",
   "metadata": {}
  },
  {
   "cell_type": "code",
   "execution_count": null,
   "metadata": {},
   "outputs": [],
   "source": [
    "for i in range(9):\n",
    "\t# define subplot\n",
    "\tpyplot.subplot(330 + 1 + i)\n",
    "\t# plot raw pixel data\n",
    "\tpyplot.imshow(trainX[i], cmap=pyplot.get_cmap('gray'))\n",
    "# show the figure\n",
    "pyplot.show()"
   ]
  },
  {
   "source": [
    "### To implement K nearest neighbour we need to first find the distances. We need to use a metric to do so. Here I have used Eucledian distance as a metric.\n",
    "### After that we need to sort the distances and select the k smallest one. k is a hyperparameter and various values of k will vary the accuracy of model.\n",
    "### Further we need to select the labels that have the maximum number of votes and select that one."
   ],
   "cell_type": "markdown",
   "metadata": {}
  },
  {
   "cell_type": "code",
   "execution_count": null,
   "metadata": {},
   "outputs": [],
   "source": [
    "import numpy as np\n",
    "from scipy.spatial import distance\n",
    "\n",
    "def euclidean_distance(img_a, img_b):\n",
    "    \"\"\"Function to find Euclidian distance\"\"\"\n",
    "    #mistake: sum((img_a-img_b)**2). We have to use np.array. np.sum converts it to array first then adds.\n",
    "    return np.sum((img_a-img_b)**2)"
   ]
  },
  {
   "cell_type": "code",
   "execution_count": null,
   "metadata": {},
   "outputs": [],
   "source": [
    "from collections import defaultdict\n",
    "\n",
    "def find_majority(labels) :\n",
    "\t\"\"\"Function to select label with most votes\"\"\"\n",
    "\t#Here I have used defaultdict because normal dict will give error if key is not define. Refer:https://www.geeksforgeeks.org/defaultdict-in-python/\n",
    "\tcounter = defaultdict(int)\n",
    "\tfor label in labels:\n",
    "\t\tcounter[label] = counter[label] + 1\n",
    "\t#print(counter)\n",
    "\t#While iterating through dictionary, if you want to use both key and values, .items() method is used.\n",
    "\tmajority_count = max(counter.values())\n",
    "\t#print (majority_count)\n",
    "\tfor key,value in counter.items() :\n",
    "\t\tif value == majority_count : \n",
    "\t\t\tr = key\n",
    "\t\t\treturn r\n"
   ]
  },
  {
   "cell_type": "code",
   "execution_count": null,
   "metadata": {},
   "outputs": [],
   "source": [
    "def Sort_tuple(tup):\n",
    "    \"\"\"Function to sort the distaces and return a tuple with distance and label\"\"\"\n",
    "    tup.sort(key = lambda x : x[0])\n",
    "    return tup"
   ]
  },
  {
   "cell_type": "code",
   "execution_count": null,
   "metadata": {},
   "outputs": [],
   "source": [
    "def predict(k,train_images, train_labels, test_images):\n",
    "\t\"\"\"Function to make prediction\"\"\"\n",
    "\tdistances = []\n",
    "\tfor (x,y) in zip(train_images, train_labels): \n",
    "\t\tdistances.append((euclidean_distance(image, x),y))\n",
    "\t#Here we need to retain the labels but have to sort according to the distance, which is the first element in the tuple. Therefore we need to use lambda function. \n",
    "\t\n",
    "\tsdistances = Sort_tuple(distances)\n",
    "\t\n",
    "\t\n",
    "\t\n",
    "\tk_labels = []\n",
    "\tfor (_,label) in sdistances[:k]:\n",
    "\t\tk_labels.append(label)\n",
    "\t\t\n",
    "\n",
    "\treturn find_majority(k_labels)\n",
    "\t"
   ]
  },
  {
   "cell_type": "code",
   "execution_count": null,
   "metadata": {
    "tags": []
   },
   "outputs": [],
   "source": [
    "i = 0\n",
    "correct = 0\n",
    "for image in trainX : \n",
    "    l = predict(5,trainX,trainy,testX)\n",
    "    if l==testy[i] :\n",
    "        correct = correct + 1\n",
    "    accuracy = (correct/ (i+1)) * 100\n",
    "    \n",
    "    i+=1"
   ]
  },
  {
   "cell_type": "code",
   "execution_count": null,
   "metadata": {},
   "outputs": [],
   "source": [
    "print(accuracy)"
   ]
  },
  {
   "cell_type": "code",
   "execution_count": null,
   "metadata": {},
   "outputs": [],
   "source": []
  }
 ]
}